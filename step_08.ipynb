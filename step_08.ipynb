{
 "cells": [
  {
   "cell_type": "code",
   "execution_count": 2,
   "metadata": {},
   "outputs": [],
   "source": [
    "class ProductHelper:\n",
    "    @staticmethod\n",
    "    def create_item_from_text(text):\n",
    "        # Gelen metni parçalayarak Product nesnesi oluştur\n",
    "        # Örnek format: \"laptop,799.90,2\"\n",
    "        try:\n",
    "            name, price, quantity = text.split(\",\")\n",
    "            return Product(name, float(price), int(quantity))\n",
    "        except ValueError:\n",
    "            print(\"Invalid input format. Expected format: 'name,price,quantity'\")\n",
    "            return None\n",
    "\n",
    "    @staticmethod\n",
    "    def get_balance(product):\n",
    "        # Ürünün toplam değerini döndürür (price * quantity)\n",
    "        if isinstance(product, Product):\n",
    "            return product.getPrice() * product.getQuantity()\n",
    "        else:\n",
    "            print(\"Invalid Product instance.\")\n"
   ]
  }
 ],
 "metadata": {
  "kernelspec": {
   "display_name": "Python 3",
   "language": "python",
   "name": "python3"
  },
  "language_info": {
   "codemirror_mode": {
    "name": "ipython",
    "version": 3
   },
   "file_extension": ".py",
   "mimetype": "text/x-python",
   "name": "python",
   "nbconvert_exporter": "python",
   "pygments_lexer": "ipython3",
   "version": "3.13.0"
  }
 },
 "nbformat": 4,
 "nbformat_minor": 2
}
