{
 "cells": [
  {
   "cell_type": "code",
   "execution_count": 19,
   "metadata": {},
   "outputs": [],
   "source": [
    "class product:\n",
    "    def __init__(self,name, price, quantity):\n",
    "        print(f\"An instance with name: {name} has been derived from product class.\")\n",
    "        \n",
    "        self.__name = name\n",
    "        self.price = price\n",
    "        self.quantity = quantity\n",
    "    @property    \n",
    "    def name(self):\n",
    "            return self.__name\n",
    "        \n",
    "    @name.setter\n",
    "    def name(self, value):\n",
    "        self.__name = value"
   ]
  },
  {
   "cell_type": "code",
   "execution_count": 20,
   "metadata": {},
   "outputs": [
    {
     "name": "stdout",
     "output_type": "stream",
     "text": [
      "An instance with name: laptop has been derived from product class.\n",
      "HP Laptop\n",
      "799.99\n",
      "2\n"
     ]
    }
   ],
   "source": [
    "item1 = product(\"laptop\", 799.99, 2)\n",
    "item1.name = \"HP Laptop\"\n",
    "print(item1.name)\n",
    "print(item1.price)\n",
    "print(item1.quantity)"
   ]
  },
  {
   "cell_type": "code",
   "execution_count": 21,
   "metadata": {},
   "outputs": [
    {
     "ename": "TypeError",
     "evalue": "product.__init__() missing 3 required positional arguments: 'name', 'price', and 'quantity'",
     "output_type": "error",
     "traceback": [
      "\u001b[1;31m---------------------------------------------------------------------------\u001b[0m",
      "\u001b[1;31mTypeError\u001b[0m                                 Traceback (most recent call last)",
      "Cell \u001b[1;32mIn[21], line 1\u001b[0m\n\u001b[1;32m----> 1\u001b[0m item2 \u001b[38;5;241m=\u001b[39m \u001b[43mproduct\u001b[49m\u001b[43m(\u001b[49m\u001b[43m)\u001b[49m\n\u001b[0;32m      2\u001b[0m \u001b[38;5;66;03m#dinamik   özellik tanımı\u001b[39;00m\n\u001b[0;32m      3\u001b[0m item2\u001b[38;5;241m.\u001b[39m__name \u001b[38;5;241m=\u001b[39m \u001b[38;5;124m\"\u001b[39m\u001b[38;5;124mcomputer\u001b[39m\u001b[38;5;124m\"\u001b[39m\n",
      "\u001b[1;31mTypeError\u001b[0m: product.__init__() missing 3 required positional arguments: 'name', 'price', and 'quantity'"
     ]
    }
   ],
   "source": [
    "item2 = product()\n",
    "#dinamik   özellik tanımı\n",
    "item2.__name = \"computer\"\n",
    "item2.__price = 1999.99\n",
    "item2.__quantity = 3"
   ]
  }
 ],
 "metadata": {
  "kernelspec": {
   "display_name": "Python 3",
   "language": "python",
   "name": "python3"
  },
  "language_info": {
   "codemirror_mode": {
    "name": "ipython",
    "version": 3
   },
   "file_extension": ".py",
   "mimetype": "text/x-python",
   "name": "python",
   "nbconvert_exporter": "python",
   "pygments_lexer": "ipython3",
   "version": "3.13.0"
  }
 },
 "nbformat": 4,
 "nbformat_minor": 2
}
